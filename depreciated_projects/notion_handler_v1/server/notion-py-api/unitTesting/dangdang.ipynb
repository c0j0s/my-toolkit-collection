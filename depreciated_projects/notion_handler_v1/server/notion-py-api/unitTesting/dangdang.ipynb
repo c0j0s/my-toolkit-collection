{
 "cells": [
  {
   "cell_type": "code",
   "execution_count": null,
   "metadata": {},
   "outputs": [],
   "source": [
    "# importing the requests library \n",
    "import requests \n",
    "\n",
    "# api-endpoint \n",
    "URL = \"<REMOVED>\"\n",
    "\n",
    "# defining a params dict for the parameters to be sent to the API \n",
    "PARAMS = {'action':'signin'\n",
    "'channelType':''\n",
    "'dang_name':'dang_name'\n",
    "'platformSource':'DDDS-P'\n",
    "'clientOs':'linux'\n",
    "'clientVersionNo':'6.8.8'\n",
    "'deviceType':'Android'\n",
    "'fromPlatform':'400'\n",
    "'model':'86E'\n",
    "'platformSource':'DDDS-P'\n",
    "'producer':'guowen'\n",
    "'resolution':'1404*1872'\n",
    "'returnType':'json'\n",
    "'serverVersionNo':'1.2.1'\n",
    "'version':'1.0.0'\n",
    "'deviceSerialNo':'OG7AA12011B02069'\n",
    "'permanentId':'20170608043031332188284138045174610'\n",
    "'channelId':'400'\n",
    "'token':''} "
   ]
  },
  {
   "cell_type": "code",
   "execution_count": null,
   "metadata": {},
   "outputs": [],
   "source": [
    "r = requests.get(url = URL, params = PARAMS) \n",
    "print(data)"
   ]
  },
  {
   "cell_type": "code",
   "execution_count": null,
   "metadata": {},
   "outputs": [],
   "source": []
  }
 ],
 "metadata": {
  "language_info": {
   "codemirror_mode": {
    "name": "ipython",
    "version": 3
   },
   "file_extension": ".py",
   "mimetype": "text/x-python",
   "name": "python",
   "nbconvert_exporter": "python",
   "pygments_lexer": "ipython3",
   "version": 3
  },
  "orig_nbformat": 2
 },
 "nbformat": 4,
 "nbformat_minor": 2
}