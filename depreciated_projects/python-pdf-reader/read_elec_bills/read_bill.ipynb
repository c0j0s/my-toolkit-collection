{
 "metadata": {
  "language_info": {
   "codemirror_mode": {
    "name": "ipython",
    "version": 3
   },
   "file_extension": ".py",
   "mimetype": "text/x-python",
   "name": "python",
   "nbconvert_exporter": "python",
   "pygments_lexer": "ipython3",
   "version": "3.6.9-final"
  },
  "orig_nbformat": 2,
  "kernelspec": {
   "name": "python36964bitenvvenv8624cc67c336430faa5860882e25a3ff",
   "display_name": "Python 3.6.9 64-bit ('env': venv)"
  }
 },
 "nbformat": 4,
 "nbformat_minor": 2,
 "cells": [
  {
   "cell_type": "code",
   "execution_count": 44,
   "metadata": {
    "tags": []
   },
   "outputs": [],
   "source": [
    "import pdfreader\n",
    "from pdfreader import PDFDocument, SimplePDFViewer\n",
    "import json\n",
    "from datetime import datetime"
   ]
  },
  {
   "cell_type": "code",
   "execution_count": 26,
   "metadata": {},
   "outputs": [],
   "source": [
    "class Entry:\n",
    "    Name = \"\"\n",
    "    Year = \"\"\n",
    "    Month = \"\"\n",
    "    Peak_Amt = \"\"\n",
    "    Peak_Rate = \"\"\n",
    "    Off_Peak_Amt = \"\"\n",
    "    Off_Peak_Rate = \"\"\n",
    "    Total = \"\"\n"
   ]
  },
  {
   "cell_type": "code",
   "execution_count": 69,
   "metadata": {},
   "outputs": [],
   "source": [
    "file_name = \"read_elec_bills/data/R20012202.pdf\""
   ]
  },
  {
   "cell_type": "code",
   "execution_count": 70,
   "metadata": {},
   "outputs": [],
   "source": [
    "fd = open(file_name, \"rb\")\n",
    "doc = SimplePDFViewer(fd)"
   ]
  },
  {
   "cell_type": "code",
   "execution_count": 71,
   "metadata": {
    "tags": []
   },
   "outputs": [],
   "source": [
    "doc.navigate(2)\n",
    "doc.render()"
   ]
  },
  {
   "cell_type": "code",
   "execution_count": 72,
   "metadata": {
    "tags": []
   },
   "outputs": [],
   "source": [
    "entry = Entry()\n",
    "for idx, line in enumerate(doc.canvas.strings):\n",
    "    if line == \"Peak Period\":\n",
    "        entry.Peak_Amt = doc.canvas.strings[idx + 1] \n",
    "        entry.Peak_Rate = doc.canvas.strings[idx + 3]\n",
    "    \n",
    "    elif line == \"Off-Peak Period\":\n",
    "        entry.Off_Peak_Amt = doc.canvas.strings[idx + 1] \n",
    "        entry.Off_Peak_Rate = doc.canvas.strings[idx + 3]\n",
    "\n",
    "    elif line == \"Bill ID: \":\n",
    "        entry.Name = doc.canvas.strings[idx + 1] \n",
    "\n",
    "    elif line == \"Account No: \":\n",
    "        date = doc.canvas.strings[idx + -1].replace(\" Bill\",\"\")\n",
    "        date = datetime.strptime(date, '%B %Y')\n",
    "        entry.Month = date.month\n",
    "        entry.Year = date.year\n",
    "\n",
    "# print(json.dumps(entry.__dict__))\n",
    "\n"
   ]
  },
  {
   "cell_type": "code",
   "execution_count": 73,
   "metadata": {
    "tags": []
   },
   "outputs": [
    {
     "output_type": "stream",
     "name": "stdout",
     "text": "\"R20012202\",\"2020\",\"3\",\"134.266\",\"0.1655\",\"82.734\",\"0.1655\"\n"
    }
   ],
   "source": [
    "csv = '\"{}\",\"{}\",\"{}\",\"{}\",\"{}\",\"{}\",\"{}\"'.format(entry.Name, entry.Year, entry.Month, entry.Peak_Amt, entry.Peak_Rate, entry.Off_Peak_Amt, entry.Off_Peak_Rate)\n",
    "print(csv)"
   ]
  },
  {
   "cell_type": "code",
   "execution_count": null,
   "metadata": {},
   "outputs": [],
   "source": []
  }
 ]
}