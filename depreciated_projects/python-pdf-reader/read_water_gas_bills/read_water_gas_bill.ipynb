{
 "metadata": {
  "language_info": {
   "codemirror_mode": {
    "name": "ipython",
    "version": 3
   },
   "file_extension": ".py",
   "mimetype": "text/x-python",
   "name": "python",
   "nbconvert_exporter": "python",
   "pygments_lexer": "ipython3",
   "version": "3.6.9-final"
  },
  "orig_nbformat": 2,
  "kernelspec": {
   "name": "python36964bitenvvenv8624cc67c336430faa5860882e25a3ff",
   "display_name": "Python 3.6.9 64-bit ('env': venv)"
  }
 },
 "nbformat": 4,
 "nbformat_minor": 2,
 "cells": [
  {
   "cell_type": "code",
   "execution_count": null,
   "metadata": {
    "tags": []
   },
   "outputs": [],
   "source": [
    "from io import StringIO\n",
    "\n",
    "from pdfminer.converter import TextConverter\n",
    "from pdfminer.layout import LAParams\n",
    "from pdfminer.pdfdocument import PDFDocument\n",
    "from pdfminer.pdfinterp import PDFResourceManager, PDFPageInterpreter\n",
    "from pdfminer.pdfpage import PDFPage\n",
    "from pdfminer.pdfparser import PDFParser\n"
   ]
  },
  {
   "cell_type": "code",
   "execution_count": null,
   "metadata": {},
   "outputs": [],
   "source": [
    "class Entry:\n",
    "    name = \"\"\n",
    "    month = \"\"\n",
    "    year = \"\"\n",
    "    usage = \"\"\n",
    "    rate = \"\""
   ]
  },
  {
   "cell_type": "code",
   "execution_count": null,
   "metadata": {},
   "outputs": [],
   "source": [
    "file_name = \"read_water_gas_bills/data/Jul2019.pdf\""
   ]
  },
  {
   "cell_type": "code",
   "execution_count": null,
   "metadata": {
    "tags": []
   },
   "outputs": [],
   "source": [
    "\n",
    "output_string = StringIO()\n",
    "with open(file_name, 'rb') as in_file:\n",
    "    parser = PDFParser(in_file)\n",
    "    doc = PDFDocument(parser)\n",
    "    rsrcmgr = PDFResourceManager()\n",
    "    device = TextConverter(rsrcmgr, output_string, laparams=LAParams())\n",
    "    interpreter = PDFPageInterpreter(rsrcmgr, device)\n",
    "    for page in PDFPage.create_pages(doc):\n",
    "        interpreter.process_page(page)\n",
    "extracted_raw = output_string.getvalue().split(\"\\n\")\n",
    "extracted_raw = [i for i in extracted_raw if i != \"\" ]"
   ]
  },
  {
   "cell_type": "code",
   "execution_count": null,
   "metadata": {},
   "outputs": [],
   "source": [
    "elec = Entry()\n",
    "water = Entry()\n",
    "gas = Entry()\n",
    "refuse = Entry()"
   ]
  },
  {
   "cell_type": "code",
   "execution_count": null,
   "metadata": {
    "tags": []
   },
   "outputs": [],
   "source": [
    "print(extracted_raw)"
   ]
  },
  {
   "cell_type": "code",
   "execution_count": null,
   "metadata": {
    "tags": []
   },
   "outputs": [],
   "source": [
    "for idx,line in enumerate(extracted_raw): \n",
    "    if line == \"Total ($)\":\n",
    "        elec.usage = extracted_raw[idx + 1]\n",
    "        elec.rate = extracted_raw[idx + 2]\n",
    "        gas.usage = extracted_raw[idx + 4]\n",
    "        gas.rate = extracted_raw[idx + 5]\n",
    "        water.usage = extracted_raw[idx + 6]\n",
    "        water.rate = extracted_raw[idx + 11]\n",
    "        refuse.usage = extracted_raw[idx + 9]\n",
    "        refuse.rate = extracted_raw[idx + 14]\n",
    "        break"
   ]
  },
  {
   "cell_type": "code",
   "execution_count": null,
   "metadata": {
    "tags": []
   },
   "outputs": [],
   "source": [
    "print(elec.__dict__)\n",
    "print(gas.__dict__)\n",
    "print(water.__dict__)\n",
    "print(refuse.__dict__)"
   ]
  },
  {
   "cell_type": "code",
   "execution_count": null,
   "metadata": {},
   "outputs": [],
   "source": []
  }
 ]
}