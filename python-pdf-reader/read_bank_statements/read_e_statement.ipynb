{
 "metadata": {
  "language_info": {
   "codemirror_mode": {
    "name": "ipython",
    "version": 3
   },
   "file_extension": ".py",
   "mimetype": "text/x-python",
   "name": "python",
   "nbconvert_exporter": "python",
   "pygments_lexer": "ipython3",
   "version": "3.6.9-final"
  },
  "orig_nbformat": 2,
  "kernelspec": {
   "name": "python36964bitenvvenv8624cc67c336430faa5860882e25a3ff",
   "display_name": "Python 3.6.9 64-bit ('env': venv)"
  }
 },
 "nbformat": 4,
 "nbformat_minor": 2,
 "cells": [
  {
   "cell_type": "code",
   "execution_count": 102,
   "metadata": {
    "tags": []
   },
   "outputs": [],
   "source": [
    "import pdfreader\n",
    "from pdfreader import PDFDocument, SimplePDFViewer\n",
    "import re\n",
    "import tabula\n",
    "import json"
   ]
  },
  {
   "cell_type": "code",
   "execution_count": 202,
   "metadata": {},
   "outputs": [],
   "source": [
    "translate = {\n",
    "    \"FAST Payment / Receipt\".lower():[\"ICT\",\"Credit\"],\n",
    "    \"Salary\".lower():[\"SAL\",\"Credit\"],\n",
    "    \"Debit Card Transaction\".lower():[\"MST\",\"Debit\"],\n",
    "    \"Point-of-Sale Transaction or Proceeds\".lower():[\"POS\",\"Debit\"],\n",
    "    \"Point-of-Sale Transaction\".lower():[\"POS\",\"Debit\"],\n",
    "    \"Cash Withdrawal\".lower(): [\"AWL\",\"Debit\"],\n",
    "    \"Cash Deposit Machine\".lower(): [\"CAM\",\"Credit\"],\n",
    "    \"Payments / Collections via GIRO\".lower():[\"IBG\",\"Credit\"],\n",
    "    \"Interest Earned\".lower():[\"INT\",\"Credit\"],\n",
    "    \"Funds Transfer\".lower():[\"ITR\",\"Debit\"],\n",
    "    \"Monthly Savings Amount for MySavings/POSB SAYE Account\".lower():[\"MCO\",\"Debit\"],\n",
    "    \"Unit Trust Application\".lower():[\"UTA\",\"Debit\"],\n",
    "    \"S$Fixed Deposit Placement\".lower():[\"FD\",\"Debit\"],\n",
    "    \"Top-up \".lower():[\"SHUB\",\"Debit\"],\n",
    "    \"Remittance Transfer of Funds\".lower():[\"RTF\",\"Credit\"]\n",
    "}"
   ]
  },
  {
   "cell_type": "code",
   "execution_count": 203,
   "metadata": {},
   "outputs": [],
   "source": [
    "file_name = \"data/201812.pdf\""
   ]
  },
  {
   "cell_type": "code",
   "execution_count": 6,
   "metadata": {},
   "outputs": [],
   "source": [
    "fd = open(test_file, \"rb\")\n",
    "doc = SimplePDFViewer(fd)"
   ]
  },
  {
   "cell_type": "code",
   "execution_count": 171,
   "metadata": {
    "tags": []
   },
   "outputs": [],
   "source": [
    "extracted_raw = []\n",
    "count = 1\n",
    "skip = 0\n",
    "while True:\n",
    "    try:\n",
    "        doc.navigate(count)\n",
    "        doc.render()\n",
    "\n",
    "        read = False\n",
    "\n",
    "        page_data = doc.canvas.strings\n",
    "        for line in page_data:\n",
    "            if skip == 0:\n",
    "                if read and line != \" \":\n",
    "                    extracted_raw.append(re.sub(' +', ' ', line))\n",
    "            else:\n",
    "                skip -= 1\n",
    "\n",
    "            if line == \"Balance Brought Forward\":\n",
    "                read = True\n",
    "                skip = 1\n",
    "            elif line == \"Balance Carried Forward\":\n",
    "                read = False\n",
    "                skip = 1\n",
    "                del extracted_raw[-1]\n",
    "            elif line == \"Total\":\n",
    "                skip = 2\n",
    "                del extracted_raw[-1]\n",
    "        count += 1\n",
    "    except:\n",
    "        break\n"
   ]
  },
  {
   "cell_type": "code",
   "execution_count": 205,
   "metadata": {
    "tags": []
   },
   "outputs": [],
   "source": [
    "is_entry = False\n",
    "next_entry = False\n",
    "entry_tmp = []\n",
    "entry_list = []\n",
    "for idx, line in enumerate(extracted_raw):\n",
    "    if re.match(r\"[0-9]{2} [A-z]{3}\",line):\n",
    "        if not is_entry:\n",
    "            is_entry = True\n",
    "        else:\n",
    "            next_entry = True\n",
    "        \n",
    "    if next_entry or idx == len(extracted_raw) - 1:\n",
    "        entry_list.append(entry_tmp)\n",
    "        entry_tmp = []\n",
    "        next_entry = False\n",
    "\n",
    "    if is_entry:\n",
    "        entry_tmp.append(line)\n",
    "\n",
    "                "
   ]
  },
  {
   "cell_type": "code",
   "execution_count": 206,
   "metadata": {},
   "outputs": [],
   "source": [
    "class Entry:\n",
    "    Transaction_Date = \"\"\n",
    "    Reference = \"\"\n",
    "    Debit_Amount = \"\"\n",
    "    Credit_Amount = \"\"\n",
    "    Transaction_Ref1 = \"\"\n",
    "    Transaction_Ref2 = \"\"\n",
    "    Transaction_Ref3 = \"\""
   ]
  },
  {
   "cell_type": "code",
   "execution_count": 207,
   "metadata": {
    "tags": []
   },
   "outputs": [],
   "source": [
    "entry_object_list = []\n",
    "entry_no_ref_code = []\n",
    "ref_code_not_found = False\n",
    "for item in entry_list:\n",
    "    e = Entry()\n",
    "    e.Transaction_Date = item[0].replace(\" \",\"-\") + \"-18\"\n",
    "\n",
    "    values = []\n",
    "    for amt in item:\n",
    "        if re.match(r\"[0-9]*\\,?[0-9]{0,3}\\.[0-9]{2}\",amt):\n",
    "            values.append(amt)\n",
    "\n",
    "    if item[1] == \"Monthly \":\n",
    "        item[1] = \"Monthly Savings Amount for MySavings/POSB SAYE Account\"\n",
    "\n",
    "    if item[1].lower() in translate:\n",
    "        e.Reference = translate[item[1].lower()][0]\n",
    "        if translate[item[1].lower()][1] == \"Debit\":\n",
    "            e.Debit_Amount = values[0]\n",
    "        else:\n",
    "            e.Credit_Amount = values[0]\n",
    "        ref_code_not_found = False\n",
    "    else:\n",
    "        ref_code_not_found = True\n",
    "\n",
    "    \n",
    "    if not ref_code_not_found:\n",
    "        for v in values:\n",
    "            item.remove(v)\n",
    "\n",
    "        if len(item) > 3:\n",
    "            e.Transaction_Ref1 = item[1]\n",
    "            e.Transaction_Ref2 = ' '.join(item[2:-2])\n",
    "            e.Transaction_Ref3 = item[-1]\n",
    "        else:\n",
    "            e.Transaction_Ref1 = ' '.join(item[0:-1])\n",
    "\n",
    "        entry_object_list.append(e)\n",
    "    else:\n",
    "        entry_no_ref_code.append(item)\n",
    "\n",
    "    "
   ]
  },
  {
   "cell_type": "code",
   "execution_count": 208,
   "metadata": {},
   "outputs": [],
   "source": [
    "with open(file_name.replace(\".pdf\",\".csv\"),\"w\") as f:\n",
    "    f.write(\"Transaction Date,Reference,Debit Amount,Credit Amount,Transaction Ref1,Transaction Ref2,Transaction Ref3\\n\")\n",
    "    for item in entry_object_list:\n",
    "        line = \"{},{},{},{},{},{},{}\\n\".format(item.Transaction_Date,item.Reference,item.Debit_Amount,item.Credit_Amount,item.Transaction_Ref1,item.Transaction_Ref2,item.Transaction_Ref3)\n",
    "        f.write(line)\n",
    "    f.close()\n",
    "\n",
    "    "
   ]
  },
  {
   "cell_type": "code",
   "execution_count": null,
   "metadata": {},
   "outputs": [],
   "source": [
    "item = [\n",
    "    \n",
    "]"
   ]
  }
 ]
}