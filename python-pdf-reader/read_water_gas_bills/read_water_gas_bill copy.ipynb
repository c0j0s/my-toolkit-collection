{
 "metadata": {
  "language_info": {
   "codemirror_mode": {
    "name": "ipython",
    "version": 3
   },
   "file_extension": ".py",
   "mimetype": "text/x-python",
   "name": "python",
   "nbconvert_exporter": "python",
   "pygments_lexer": "ipython3",
   "version": "3.6.9-final"
  },
  "orig_nbformat": 2,
  "kernelspec": {
   "name": "python36964bitenvvenv8624cc67c336430faa5860882e25a3ff",
   "display_name": "Python 3.6.9 64-bit ('env': venv)"
  }
 },
 "nbformat": 4,
 "nbformat_minor": 2,
 "cells": [
  {
   "cell_type": "code",
   "execution_count": 1,
   "metadata": {
    "tags": []
   },
   "outputs": [],
   "source": [
    "import pdfreader\n",
    "from pdfreader import PDFDocument, SimplePDFViewer\n",
    "import json\n",
    "from datetime import datetime"
   ]
  },
  {
   "cell_type": "code",
   "execution_count": 2,
   "metadata": {},
   "outputs": [],
   "source": [
    "file_name = \"read_water_gas_bills/data/Jun2019.pdf\""
   ]
  },
  {
   "cell_type": "code",
   "execution_count": 19,
   "metadata": {
    "tags": []
   },
   "outputs": [
    {
     "output_type": "stream",
     "name": "stderr",
     "text": "ERROR:root:Skipping broken stream\nTraceback (most recent call last):\n  File \"/mnt/d/cjuns/Workspace/cjs-notion-handler/python-pdf-reader/env/lib/python3.6/site-packages/pdfreader/filters/ascii85.py\", line 26, in decode\n    res = b85decode(data[:-2])\n  File \"/usr/lib/python3.6/base64.py\", line 464, in b85decode\n    % (i + j)) from None\nValueError: bad base85 character at position 2\nERROR:root:Skipping broken stream\nTraceback (most recent call last):\n  File \"/mnt/d/cjuns/Workspace/cjs-notion-handler/python-pdf-reader/env/lib/python3.6/site-packages/pdfreader/filters/flate.py\", line 20, in decode\n    data = zlib.decompress(data)\nzlib.error: Error -5 while decompressing data: incomplete or truncated stream\n"
    }
   ],
   "source": [
    "from io import BytesIO\n",
    "with open(file_name, \"rb\") as f:\n",
    "    stream = BytesIO(f.read())\n",
    "doc = SimplePDFViewer(stream)"
   ]
  }
 ]
}