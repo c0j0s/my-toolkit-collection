{
 "metadata": {
  "language_info": {
   "codemirror_mode": {
    "name": "ipython",
    "version": 3
   },
   "file_extension": ".py",
   "mimetype": "text/x-python",
   "name": "python",
   "nbconvert_exporter": "python",
   "pygments_lexer": "ipython3",
   "version": "3.6.9-final"
  },
  "orig_nbformat": 2,
  "kernelspec": {
   "name": "python36964bitenvvenv8624cc67c336430faa5860882e25a3ff",
   "display_name": "Python 3.6.9 64-bit ('env': venv)"
  }
 },
 "nbformat": 4,
 "nbformat_minor": 2,
 "cells": [
  {
   "cell_type": "code",
   "execution_count": 10,
   "metadata": {
    "tags": []
   },
   "outputs": [],
   "source": [
    "from io import StringIO\n",
    "\n",
    "from pdfminer.converter import TextConverter\n",
    "from pdfminer.layout import LAParams\n",
    "from pdfminer.pdfdocument import PDFDocument\n",
    "from pdfminer.pdfinterp import PDFResourceManager, PDFPageInterpreter\n",
    "from pdfminer.pdfpage import PDFPage\n",
    "from pdfminer.pdfparser import PDFParser\n"
   ]
  },
  {
   "cell_type": "code",
   "execution_count": 30,
   "metadata": {},
   "outputs": [],
   "source": [
    "class Entry:\n",
    "    name = \"\"\n",
    "    month = \"\"\n",
    "    year = \"\"\n",
    "    usage = \"\"\n",
    "    rate = \"\""
   ]
  },
  {
   "cell_type": "code",
   "execution_count": 49,
   "metadata": {},
   "outputs": [],
   "source": [
    "file_name = \"read_water_gas_bills/data/Jul2019.pdf\""
   ]
  },
  {
   "cell_type": "code",
   "execution_count": 50,
   "metadata": {
    "tags": []
   },
   "outputs": [],
   "source": [
    "\n",
    "output_string = StringIO()\n",
    "with open(file_name, 'rb') as in_file:\n",
    "    parser = PDFParser(in_file)\n",
    "    doc = PDFDocument(parser)\n",
    "    rsrcmgr = PDFResourceManager()\n",
    "    device = TextConverter(rsrcmgr, output_string, laparams=LAParams())\n",
    "    interpreter = PDFPageInterpreter(rsrcmgr, device)\n",
    "    for page in PDFPage.create_pages(doc):\n",
    "        interpreter.process_page(page)\n",
    "extracted_raw = output_string.getvalue().split(\"\\n\")\n",
    "extracted_raw = [i for i in extracted_raw if i != \"\" ]"
   ]
  },
  {
   "cell_type": "code",
   "execution_count": 51,
   "metadata": {},
   "outputs": [],
   "source": [
    "elec = Entry()\n",
    "water = Entry()\n",
    "gas = Entry()\n",
    "refuse = Entry()"
   ]
  },
  {
   "cell_type": "code",
   "execution_count": 54,
   "metadata": {
    "tags": []
   },
   "outputs": [
    {
     "output_type": "stream",
     "name": "stdout",
     "text": "['MR CHEN HUIXIONG', '195 KIM KEAT AVE', '#08-296', 'SINGAPORE 310195', '(3101950)', '369-000949-00475-1537', 'July 2019 Bill', 'Account No. 8911535121', 'Total Amount Payable: $185.94', 'Payment Due: 29 Jul 2019', 'This is your tax invoice for', '195 KIM KEAT AVE #08-296 SINGAPORE', '310195', 'B illing P eriod', '14 Jun 2019 - 13 Jul 2019', 'Current Charges', 'B ill Date', '14 Jul 2019', 'Account T ype', 'Domestic', 'Consumption Trend', 'Electricity Services', 'Usage: 479 kWh', 'Gas Services', 'by City Gas Pte Ltd (as Trustee)', 'Usage: 45 kWh', '(kWh)', '(kWh)', '(Cu M)', 'Water Services', 'by Public Utilities Board', 'Usage: 16.6 Cu M', 'Utilities Saving Tip', 'Usage', 'FEB', '563', 'MAR*', '430', 'APR', '373', 'MAY*', '443', 'JUN', '562', 'JUL*', '479', 'Usage', 'FEB*', '41', 'MAR*', '40', 'APR', '118', 'MAY*', '65', 'JUN', '29', 'JUL*', '45', 'Usage', 'FEB', '24.4', 'MAR*', '18.9', 'APR', '11.7', 'MAY*', '16.9', 'JUN', '18.0', 'JUL*', '16.6', '- - - - Neighbour average    ----------- National average     *Estimated month', 'Deposit', '$100.00', '- - - - 317', '------- 255', '- - - - 84', '------- 58', '- - - - 15.1', '------- 12.3', 'Total', ' $112.14', ' $8.52', ' $45.40', 'Save on your utility bills by using a gas stove kettle to boil water', 'instead of an electric one.', 'Find out more utilities saving tips at www.spgroup.com.sg', 'Refuse Removal', 'by 800 Super Waste Mgt P/L', 'GST', 'Current Charges:', '(Inclusive of GST)', '$7.71', '$12.17', '$185.94', 'SP Services Ltd: Co. Registration No. (199504470N) | GST Registration No. (M2-8920920-4)', 'For details on difference between current charges', 'and total amount payable, see Summary of Charges', 'For cheque payment: Crossed cheque is to be made', 'payable to ‘SP Services Ltd’. Please detach and mail', 'this portion with your cheque to Orchard P.O. Box', '341, Singapore 912312. (No receipt will be issued.', 'Please do not send post-dated cheque.)', 'Account No', '8911535121', 'Cheque No', 'Payment Due:', '29 Jul 2019', 'Bank:', 'Branch:', 'Please make full payment by the due date to avoid $0.50 Pink Notice Fee and 1% Late Payment Charge.', 'Total Amount Payable:', '$185.94', '*P2018911535121*', '*00000185.94*', '8911535121', '000000018594', '41078266916-/S', 'Page 1 of 3', '369-000949-00475-1537', '\\x0cJuly 2019 Bill', 'Account No. 8911535121', 'Usage', 'Rate ($)', 'Amount ($)', 'Total ($)', '$203.80', '-$203.80', '$0.00', '$185.94', '$185.94', '112.14', '8.52', '45.40', '7.71', '173.77', '12.17', '$185.94', '61.76', '50.38', '4.70', '3.82', ' ', ' ', ' ', '20.09', '15.27', '10.04', '7.71', '173.77', '12.17', '271 kWh', '208 kWh', '25 kWh', '20 kWh', '16.6 Cu M', '16.6 Cu M', '$20.09', '1 Qty', '$173.77', '0.2279', '0.2422', '0.1880', '0.1910', '1.2100', '0.9200', '50%', '7.71', '7%', 'Summary of Charges', 'Balance Brought Forward from Previous Bill', 'Payment on 19 Jun 2019 - Thank You', 'Outstanding Balance', 'Current Charges due on 29 Jul 2019 (Mon)', 'Total Amount Payable', 'Breakdown of Current Charges', 'Electricity Services ', 'Electricity Estimated on 13 Jul 2019', 'Gas Services by City Gas Pte Ltd (as Trustee)', 'Gas Estimated on 13 Jul 2019', 'Water Services by Public Utilities Board', 'Water Estimated on 13 Jul 2019', 'Waterborne Fee', 'Water Conservation Tax', 'Refuse Removal by 800 Super Waste Mgt P/L', 'Subtotal', 'GST', 'Current Charges:', '(Inclusive of GST)', 'Meter Reading', 'Notices', 'to 19.10 cents per kWh.', 'l We plan to read your meter(s) between 10 Aug 2019 and 16 Aug 2019. To check the identity of our staff, please call 1800 222 2333.', 'l Payment received on or after 13 Jul 2019 may not be included in this bill.', 'l With effect from 01 Jul 2019, electricity tariff is 24.22 cents/kWh.', 'l Gas tariffs for 1 July 2019 to 30 Sept 2019 have been revised. For households, the gas tariff (before 7% GST) will increase by 0.30 cent per kWh', 'l From 1 August 2019, please login to your SP Utilities Mobile App or SP Utilities Portal account with your registered email address. Logins using', 'NRIC will no longer be accepted as advised by the Personal Data Protection Commission Singapore. For more information, please visit', 'http://bit.ly/pdpcnric.', 'Contact Information', 'General Enquiries: 1800 222 2333', 'Payment Arrangement: 6671 7100', 'Fax: 6304 8229', 'Customer Service Centre', '8 Cross Street #02-01 to 03 Manulife Tower', 'Singapore 048424', 'customersupport@spgroup.com.sg', 'www.spgroup.com.sg', 'Emergency Numbers', '  Electricity: 1800 778 8888', '  Water: 1800 225 5782 (CALL PUB)', '  Gas: 1800 752 1800', 'This bill serves as a tax invoice for the collection of:', '- Electricity charges for SP Services Ltd and SP PowerAssets Ltd (200302108D) or Ohm Energy Pte Ltd (201501015E) or Tuas Power Supply Pte Ltd (200004985K) or Greencity Energy Pte Ltd (201731014R) or Best Electricity Supply Pte Ltd', '(201502907C)', '- Gas charges for City Gas Pte Ltd (as Trustee) (M90356440A)', '- Water charges, NEWater charges, water conservation tax and waterborne fee for the Public Utilities Board (MB-8100014-4)', 'Different payment options with SP Services', ' ', 'Self Help Machines', 'You can pay your bill at SingPost', 'Self-Service Automated Machines (SAMs),', 'NETS Self-Service Stations, AXS Stations', 'and DBS/POSB/OCBC ATMs.', 'Find out other payment options at www.spgroup.com.sg', 'Internet Banking', 'DBS Bank Ltd', 'OCBC Bank', 'United Overseas Bank Ltd', 'Citibank Singapore Ltd', 'Counter Payment', 'Cash, NETS, Cashcard payments', 'can be made at post offices and', '7-Eleven stores.', 'Mobile App', 'Download SP Utilities mobile app', 'from Apple Store or Google Play to', 'pay bills using credit card and get', 'customer support via live chat.', 'We may,', 'customersupport@spgroup.com.sg. Please visit www.spgroup.com.sg to read our T&Cs.', 'from time to time, contact you to obtain feedback or', 'inform you about', 'the services and offers of SP Services and its trusted partners.', 'If you do not wish to be contacted, please email us at', '41078266916-/S', 'Page 2 of 3', '369-000950-00475-1537', '\\x0cJuly 2019 Bill', 'Account No. 8911535121', 'MR CHEN HUIXIONG', '195 KIM KEAT AVE', '#08-296', 'SINGAPORE 310195', '(3101950)', '369-000951-00476-1537', '- Refuse removal fee for SembWaste Pte Ltd (M2-8922032-1) or Veolia ES Singapore P L (199804675H) or Colex Environmental Pte Ltd (201133348M) or 800 Super Waste Management Pte Ltd (M2-0073013-5) or TEE Environmental Pte.', 'Ltd. (200106873W)', 'The amount for GST shown on the bill is calculated based on the sum of the GST charged for each individual item.', '41078266916-/S', 'Page 3 of 3', '369-000951-00476-1537', '\\x0c\\x0c']\n"
    }
   ],
   "source": [
    "print(extracted_raw)"
   ]
  },
  {
   "cell_type": "code",
   "execution_count": 52,
   "metadata": {
    "tags": []
   },
   "outputs": [],
   "source": [
    "for idx,line in enumerate(extracted_raw): \n",
    "    if line == \"Total ($)\":\n",
    "        elec.usage = extracted_raw[idx + 1]\n",
    "        elec.rate = extracted_raw[idx + 2]\n",
    "        gas.usage = extracted_raw[idx + 4]\n",
    "        gas.rate = extracted_raw[idx + 5]\n",
    "        water.usage = extracted_raw[idx + 6]\n",
    "        water.rate = extracted_raw[idx + 11]\n",
    "        refuse.usage = extracted_raw[idx + 9]\n",
    "        refuse.rate = extracted_raw[idx + 14]\n",
    "        break"
   ]
  },
  {
   "cell_type": "code",
   "execution_count": 53,
   "metadata": {
    "tags": []
   },
   "outputs": [
    {
     "output_type": "stream",
     "name": "stdout",
     "text": "{'usage': '$203.80', 'rate': '-$203.80'}\n{'usage': '$185.94', 'rate': '$185.94'}\n{'usage': '112.14', 'rate': '12.17'}\n{'usage': '7.71', 'rate': '50.38'}\n"
    }
   ],
   "source": [
    "print(elec.__dict__)\n",
    "print(gas.__dict__)\n",
    "print(water.__dict__)\n",
    "print(refuse.__dict__)"
   ]
  },
  {
   "cell_type": "code",
   "execution_count": null,
   "metadata": {},
   "outputs": [],
   "source": []
  }
 ]
}