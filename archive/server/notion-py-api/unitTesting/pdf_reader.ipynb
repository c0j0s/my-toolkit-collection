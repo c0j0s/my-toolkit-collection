{
 "cells": [
  {
   "cell_type": "code",
   "execution_count": 27,
   "metadata": {},
   "outputs": [],
   "source": [
    "from tabula import read_pdf\n",
    "import pandas as pd"
   ]
  },
  {
   "cell_type": "code",
   "execution_count": 96,
   "metadata": {},
   "outputs": [],
   "source": [
    "testFile = \"/mnt/c/Users/cjuns/Downloads/testing.pdf\"\n",
    "df = read_pdf(testFile,multiple_tables=True,guess=True,pages=\"all\")"
   ]
  },
  {
   "cell_type": "code",
   "execution_count": 97,
   "metadata": {},
   "outputs": [
    {
     "data": {
      "text/plain": [
       "[                    B illing P eriod Unnamed: 0   B ill Date  Unnamed: 1  \\\n",
       " 0          14 May 2020 - 12 Jun 2020        NaN  14 Jun 2020         NaN   \n",
       " 1                    Current Charges        NaN          NaN         NaN   \n",
       " 2                                NaN      (kWh)          NaN         NaN   \n",
       " 3                                NaN        NaN          NaN         NaN   \n",
       " 4               Electricity Services        NaN          NaN         NaN   \n",
       " 5                           Usage: -        NaN          NaN         NaN   \n",
       " 6                                NaN        NaN          JAN         NaN   \n",
       " 7                                NaN      Usage          419         NaN   \n",
       " 8                                NaN      (kWh)          NaN         NaN   \n",
       " 9                                NaN        NaN          NaN         NaN   \n",
       " 10                      Gas Services        NaN          NaN         NaN   \n",
       " 11  by City Gas Pte Ltd (as Trustee)        NaN          NaN         NaN   \n",
       " 12                   Usage: -251 kWh        NaN          NaN         NaN   \n",
       " 13                               NaN        NaN         JAN*         NaN   \n",
       " 14                               NaN      Usage          101         NaN   \n",
       " 15                               NaN     (Cu M)          NaN         NaN   \n",
       " 16                               NaN        NaN          NaN         NaN   \n",
       " \n",
       "           Account T ype Unnamed: 2       Deposit Unnamed: 3  \n",
       " 0              Domestic        NaN        $35.00        NaN  \n",
       " 1     Consumption Trend        NaN           NaN      Total  \n",
       " 2                   NaN        NaN   - - - - 358        NaN  \n",
       " 3                   NaN        NaN   ------- 428        NaN  \n",
       " 4                   NaN        NaN           NaN          -  \n",
       " 5                   NaN        NaN           NaN        NaN  \n",
       " 6                  FEB*        NaN           NaN        NaN  \n",
       " 7                   105        NaN           NaN        NaN  \n",
       " 8                   NaN        NaN    - - - - 70        NaN  \n",
       " 9                   NaN        NaN    ------- 59        NaN  \n",
       " 10                  NaN        NaN           NaN    -$45.65  \n",
       " 11                  NaN        NaN           NaN        NaN  \n",
       " 12                  NaN        NaN           NaN        NaN  \n",
       " 13  FEB* MAR* APR* MAY*        JUN           NaN        NaN  \n",
       " 14          94 94 53 51       -251           NaN        NaN  \n",
       " 15                  NaN        NaN  - - - - 13.4        NaN  \n",
       " 16                  NaN        NaN  ------- 12.5        NaN  ,\n",
       " Empty DataFrame\n",
       " Columns: [For cheque payment: Crossed cheque is to be made, Payment Due:, Total Amount Payable:]\n",
       " Index: [],\n",
       "                                   Outstanding Balance  Unnamed: 0      $0.00\n",
       " 0            Current Charges due on 29 Jun 2020 (Mon)         NaN     $39.29\n",
       " 1   Total Amount Payable will be charged to your D...         NaN     $39.29\n",
       " 2         Breakdown of Current Charges Usage Rate ($)  Amount ($)  Total ($)\n",
       " 3       Gas Services by City Gas Pte Ltd (as Trustee)         NaN        NaN\n",
       " 4   Reading taken on 12 Jun 2020 : 3866 -69 kWh 0....      -13.18        NaN\n",
       " 5                                     -134 kWh 0.1799      -24.11        NaN\n",
       " 6                                     -105 kWh 0.1723      -18.10        NaN\n",
       " 7                                       57 kWh 0.1711        9.74     -45.65\n",
       " 8            Water Services by Public Utilities Board         NaN        NaN\n",
       " 9   Reading taken on 12 Jun 2020 : 1021.0 27.3 Cu ...       33.02        NaN\n",
       " 10                    Waterborne Fee 27.3 Cu M 0.9200       25.12        NaN,\n",
       "   Unnamed: 0                                            Notices\n",
       " 0          l  Payment received on or after 13 Jun 2020 may n...\n",
       " 1          l  From all of us at SP Group, we wish all custom...\n",
       " 2          l  Download the SP Utilities app to pay your bill...\n",
       " 3        NaN                                Contact Information]"
      ]
     },
     "execution_count": 97,
     "metadata": {},
     "output_type": "execute_result"
    }
   ],
   "source": [
    "df"
   ]
  },
  {
   "cell_type": "code",
   "execution_count": 65,
   "metadata": {},
   "outputs": [
    {
     "name": "stdout",
     "output_type": "stream",
     "text": [
      "['Current Charges due on 31 Dec 2019 (Tue)' nan nan nan '$171.77']\n",
      "['Total Amount Payable' nan nan nan '$171.77']\n",
      "['Breakdown of Current Charges' 'Usage' 'Rate ($)' 'Amount ($)'\n",
      " 'Total ($)']\n",
      "['Electricity Services' nan nan nan nan]\n",
      "['Reading taken on 12 Dec 2019 : 1488' '371 kWh' '0.2343' '86.93' '86.93']\n",
      "['Gas Services by City Gas Pte Ltd (as Trustee)' nan nan nan nan]\n",
      "['Gas Estimated on 12 Dec 2019' '91 kWh' '0.1799' '16.37' '16.37']\n",
      "['Water Services by Public Utilities Board' nan nan nan nan]\n",
      "['Reading taken on 12 Dec 2019 : 909.6' '18.1 Cu M' '1.2100' '21.90' nan]\n",
      "['Waterborne Fee' '18.1 Cu M' '0.9200' '16.65' nan]\n"
     ]
    }
   ],
   "source": [
    "for items in df[0].values:\n",
    "    print(items)\n"
   ]
  }
 ],
 "metadata": {
  "kernelspec": {
   "display_name": "Python 3.6.9 64-bit",
   "language": "python",
   "name": "python36964bit8f58f67921894e03b96bf41e7bcf3fd3"
  },
  "language_info": {
   "codemirror_mode": {
    "name": "ipython",
    "version": 3
   },
   "file_extension": ".py",
   "mimetype": "text/x-python",
   "name": "python",
   "nbconvert_exporter": "python",
   "pygments_lexer": "ipython3",
   "version": "3.6.9"
  }
 },
 "nbformat": 4,
 "nbformat_minor": 2
}
